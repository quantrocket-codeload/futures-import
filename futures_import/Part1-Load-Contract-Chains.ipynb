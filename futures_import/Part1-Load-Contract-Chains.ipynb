{
 "cells": [
  {
   "cell_type": "markdown",
   "metadata": {},
   "source": [
    "<a href=\"https://www.quantrocket.com\"><img alt=\"QuantRocket logo\" src=\"https://www.quantrocket.com/assets/img/notebook-header-logo.png\"></a><br>\n",
    "<a href=\"https://www.quantrocket.com/disclaimer/\">Disclaimer</a>"
   ]
  },
  {
   "cell_type": "markdown",
   "metadata": {},
   "source": [
    "***\n",
    "[Import Futures](Introduction.ipynb) › Part 1: Load Contract Chains\n",
    "***"
   ]
  },
  {
   "cell_type": "markdown",
   "metadata": {},
   "source": [
    "# Load Contract Chains\n",
    "\n",
    "QuantRocket maintains historical lists of contract chains to facilitate mapping historical futures data to QuantRocket SIDs (security IDs). This notebook shows how to obtain the list of contracts and load it into your securities master database. In the next notebook, we will query these contracts from the securities master database to map our third-party data to SIDs.\n",
    "\n",
    "## Request Historical Contract Chains\n",
    "\n",
    "The list of historical contract specifications is currently not accessible by API and should be obtained by [contacting us](https://www.quantrocket.com/?modal=contactmodal) (subscribers only, please). Upload the `contract_chains.zip` file to the current directory (`/codeload/futures_imports`) and unzip it into a subdirectory called `contract_chains` by running the following command:\n"
   ]
  },
  {
   "cell_type": "code",
   "execution_count": 1,
   "metadata": {
    "scrolled": true
   },
   "outputs": [
    {
     "name": "stdout",
     "output_type": "stream",
     "text": [
      "Archive:  contract_chains.zip\n",
      "  inflating: contract_chains/XLME.csv  \n",
      "  inflating: contract_chains/XHKF.csv  \n",
      "  inflating: contract_chains/XEUE.csv  \n",
      "  inflating: contract_chains/XNYM.csv  \n",
      "  inflating: contract_chains/XCME.csv  \n",
      "  inflating: contract_chains/XEMD.csv  \n",
      "  inflating: contract_chains/XBRD.csv  \n",
      "  inflating: contract_chains/XMRV.csv  \n",
      "  inflating: contract_chains/XOSE.csv  \n",
      "  inflating: contract_chains/XSFE.csv  \n",
      "  inflating: contract_chains/XSES.csv  \n",
      "  inflating: contract_chains/XKRX.csv  \n",
      "  inflating: contract_chains/XNLI.csv  \n",
      "  inflating: contract_chains/XCEC.csv  \n",
      "  inflating: contract_chains/XMON.csv  \n",
      "  inflating: contract_chains/IFEN.csv  \n",
      "  inflating: contract_chains/NDEX.csv  \n",
      "  inflating: contract_chains/IFLL.csv  \n",
      "  inflating: contract_chains/IFLX.csv  \n",
      "  inflating: contract_chains/XNSE.csv  \n",
      "  inflating: contract_chains/XDMI.csv  \n",
      "  inflating: contract_chains/XMOD.csv  \n",
      "  inflating: contract_chains/root_symbols.csv  \n",
      "  inflating: contract_chains/XSTO.csv  \n",
      "  inflating: contract_chains/EUCH.csv  \n",
      "  inflating: contract_chains/XCBF.csv  \n",
      "  inflating: contract_chains/XEUR.csv  \n",
      "  inflating: contract_chains/XCBT.csv  \n",
      "  inflating: contract_chains/SMFE.csv  \n",
      "  inflating: contract_chains/XMAT.csv  \n",
      "  inflating: contract_chains/IFUS.csv  \n",
      "  inflating: contract_chains/exchanges_to_mics.yml  \n"
     ]
    }
   ],
   "source": [
    "! unzip -o contract_chains.zip -d contract_chains"
   ]
  },
  {
   "cell_type": "markdown",
   "metadata": {},
   "source": [
    "The [root_symbols.csv](contract_chains/root_symbols.csv) file contains the list of available root symbols and contract specifications (but not the individual contracts with expiration dates). The `start_date` column indicates how far back the historical contract chains go (and thus how far back historical data can be imported).\n",
    "\n",
    "Lists of individual contracts with expiration dates are organized by MIC (Market Identifier Code). For example, `contract_chains/XCME.csv` contains contract chains for contracts traded on CME.\n",
    "\n",
    "The [exchanges_to_mics.yml](contract_chains/exchanges_to_mics.yml) file provides a (non-exhaustive) mapping of common exchange codes (e.g. NYMEX) to MICs (e.g. XNYM). This file is used in the next notebook to faciliate mapping the source data to SIDs and can also be used to help identify the MICs for the exchanges you're interested in.\n",
    "\n",
    "> If a contract you need is not available, or the contract chain history doesn't go back far enough, please [contact us](https://www.quantrocket.com/?modal=contactmodal) for assistance."
   ]
  },
  {
   "cell_type": "markdown",
   "metadata": {},
   "source": [
    "## Load into Securities Master\n",
    "\n",
    "For each exchange you're interested in, load the list of contract chains into the `SecurityIBKR` and `SecuritySid` tables of the securities master database. Below, we load XCME (CME).\n",
    "\n",
    "Other than editing the code to your desired list of MICs, this code block can be run as-is:"
   ]
  },
  {
   "cell_type": "code",
   "execution_count": 2,
   "metadata": {},
   "outputs": [
    {
     "name": "stdout",
     "output_type": "stream",
     "text": [
      "loading XCME contracts\n"
     ]
    }
   ],
   "source": [
    "import pandas as pd\n",
    "from quantrocket.db import connect_sqlite, insert_or_ignore\n",
    "\n",
    "master_db_conn = connect_sqlite(\"/var/lib/quantrocket/quantrocket.v2.master.main.sqlite\")\n",
    "\n",
    "# edit to your desired MICs, the rest of this code block can be run as-is\n",
    "desired_exchanges = [\n",
    "    \"XCME\"\n",
    "]\n",
    "for exchange in desired_exchanges:\n",
    "\n",
    "    print(f\"loading {exchange} contracts\")\n",
    "    contracts = pd.read_csv(f\"contract_chains/{exchange}.csv\")\n",
    "    insert_or_ignore(contracts, \"SecurityIBKR\", master_db_conn)\n",
    "    insert_or_ignore(contracts[[\"Sid\"]], \"SecuritySid\", master_db_conn)\n"
   ]
  },
  {
   "cell_type": "markdown",
   "metadata": {},
   "source": [
    "## Restart the Securities Master Service\n",
    "\n",
    "After loading the contract chains into the `SecurityIBKR` table, restart the securities master container from the host machine:\n",
    "\n",
    "```\n",
    "docker compose restart master\n",
    "```\n",
    "\n",
    "This will rebuild the database and make the newly loaded contracts queryable. You can query the root symbol to make sure the historical contract chains have been successfully loaded:"
   ]
  },
  {
   "cell_type": "code",
   "execution_count": 3,
   "metadata": {},
   "outputs": [
    {
     "data": {
      "text/html": [
       "<div>\n",
       "<style scoped>\n",
       "    .dataframe tbody tr th:only-of-type {\n",
       "        vertical-align: middle;\n",
       "    }\n",
       "\n",
       "    .dataframe tbody tr th {\n",
       "        vertical-align: top;\n",
       "    }\n",
       "\n",
       "    .dataframe thead th {\n",
       "        text-align: right;\n",
       "    }\n",
       "</style>\n",
       "<table border=\"1\" class=\"dataframe\">\n",
       "  <thead>\n",
       "    <tr style=\"text-align: right;\">\n",
       "      <th></th>\n",
       "      <th>Symbol</th>\n",
       "      <th>Exchange</th>\n",
       "      <th>SecType</th>\n",
       "      <th>Name</th>\n",
       "      <th>LastTradeDate</th>\n",
       "    </tr>\n",
       "    <tr>\n",
       "      <th>Sid</th>\n",
       "      <th></th>\n",
       "      <th></th>\n",
       "      <th></th>\n",
       "      <th></th>\n",
       "      <th></th>\n",
       "    </tr>\n",
       "  </thead>\n",
       "  <tbody>\n",
       "    <tr>\n",
       "      <th>QF000000654904</th>\n",
       "      <td>ESZ97</td>\n",
       "      <td>XCME</td>\n",
       "      <td>FUT</td>\n",
       "      <td>E-mini S&amp;P 500</td>\n",
       "      <td>1997-12-18</td>\n",
       "    </tr>\n",
       "    <tr>\n",
       "      <th>QF000000654905</th>\n",
       "      <td>ESH98</td>\n",
       "      <td>XCME</td>\n",
       "      <td>FUT</td>\n",
       "      <td>E-mini S&amp;P 500</td>\n",
       "      <td>1998-03-20</td>\n",
       "    </tr>\n",
       "    <tr>\n",
       "      <th>QF000000654906</th>\n",
       "      <td>ESM98</td>\n",
       "      <td>XCME</td>\n",
       "      <td>FUT</td>\n",
       "      <td>E-mini S&amp;P 500</td>\n",
       "      <td>1998-06-19</td>\n",
       "    </tr>\n",
       "    <tr>\n",
       "      <th>QF000000654907</th>\n",
       "      <td>ESU98</td>\n",
       "      <td>XCME</td>\n",
       "      <td>FUT</td>\n",
       "      <td>E-mini S&amp;P 500</td>\n",
       "      <td>1998-09-21</td>\n",
       "    </tr>\n",
       "    <tr>\n",
       "      <th>QF000000654908</th>\n",
       "      <td>ESZ98</td>\n",
       "      <td>XCME</td>\n",
       "      <td>FUT</td>\n",
       "      <td>E-mini S&amp;P 500</td>\n",
       "      <td>1998-12-18</td>\n",
       "    </tr>\n",
       "  </tbody>\n",
       "</table>\n",
       "</div>"
      ],
      "text/plain": [
       "               Symbol Exchange SecType            Name LastTradeDate\n",
       "Sid                                                                 \n",
       "QF000000654904  ESZ97     XCME     FUT  E-mini S&P 500    1997-12-18\n",
       "QF000000654905  ESH98     XCME     FUT  E-mini S&P 500    1998-03-20\n",
       "QF000000654906  ESM98     XCME     FUT  E-mini S&P 500    1998-06-19\n",
       "QF000000654907  ESU98     XCME     FUT  E-mini S&P 500    1998-09-21\n",
       "QF000000654908  ESZ98     XCME     FUT  E-mini S&P 500    1998-12-18"
      ]
     },
     "execution_count": 3,
     "metadata": {},
     "output_type": "execute_result"
    }
   ],
   "source": [
    "from quantrocket.master import get_securities\n",
    "contracts = get_securities(\n",
    "    symbols=[\"ES\"],\n",
    "    exchanges=[\"XCME\"],\n",
    "    sec_types=\"FUT\",\n",
    "    fields=[\"Symbol\", \"Exchange\", \"SecType\", \"Name\", \"LastTradeDate\"]\n",
    ")\n",
    "contracts.sort_values(\"LastTradeDate\").head()"
   ]
  },
  {
   "cell_type": "markdown",
   "metadata": {},
   "source": [
    "***\n",
    "\n",
    "## *Next Up*\n",
    "\n",
    "Part 2: [Load Historical Data](Part2-Load-Historical-Data.ipynb)"
   ]
  }
 ],
 "metadata": {
  "kernelspec": {
   "display_name": "Python 3.11",
   "language": "python",
   "name": "python3"
  },
  "language_info": {
   "codemirror_mode": {
    "name": "ipython",
    "version": 3
   },
   "file_extension": ".py",
   "mimetype": "text/x-python",
   "name": "python",
   "nbconvert_exporter": "python",
   "pygments_lexer": "ipython3",
   "version": "3.11.5"
  }
 },
 "nbformat": 4,
 "nbformat_minor": 4
}
