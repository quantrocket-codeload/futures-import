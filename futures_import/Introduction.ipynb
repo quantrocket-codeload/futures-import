{
 "cells": [
  {
   "cell_type": "markdown",
   "metadata": {},
   "source": [
    "<a href=\"https://www.quantrocket.com\"><img alt=\"QuantRocket logo\" src=\"https://www.quantrocket.com/assets/img/notebook-header-logo.png\"></a><br>\n",
    "<a href=\"https://www.quantrocket.com/disclaimer/\">Disclaimer</a>"
   ]
  },
  {
   "cell_type": "markdown",
   "metadata": {},
   "source": [
    "# How to Import Historical Futures Data\n",
    "\n",
    "This tutorial demonstrates how to import historical futures data from a third-party data provider and combine it with recent data from Interactive Brokers in a Zipline bundle. \n",
    "\n",
    "Importing historical data is intended as a one-time manual process, with subsequent up-to-date futures data collected by API from Interactive Brokers. Interactive Brokers provides global futures coverage but only provides historical futures data for contracts that expired less than 2 years ago. Thus, users who want to run longer backtests must import data from another source. \n",
    "\n",
    "If you do not have an Interactive Brokers account, you can omit the Interactive Brokers steps and use the imported data by itself. You will need to repeat or automate this tutorial periodically if you wish to import updated data from your data provider. \n",
    "\n",
    "Note that the tutorial is intended for importing individual futures contracts rather than continuous contracts.   \n",
    "\n",
    "**Load Third-Party Historical Data**\n",
    "\n",
    "* Part 1: [Load Contract Chains](Part1-Load-Contract-Chains.ipynb)\n",
    "* Part 2: [Load Historical Data](Part2-Load-Historical-Data.ipynb)\n",
    "\n",
    "**Combine with Recent Interactive Brokers Data** \n",
    "\n",
    "* Part 3: [Interactive Brokers Data Collection](Part3-IBKR-Data-Collection.ipynb)\n",
    "* Part 4: [Zipline Bundle](Part4-Zipline-Bundle.ipynb)\n"
   ]
  }
 ],
 "metadata": {
  "kernelspec": {
   "display_name": "Python 3.11",
   "language": "python",
   "name": "python3"
  },
  "language_info": {
   "codemirror_mode": {
    "name": "ipython",
    "version": 3
   },
   "file_extension": ".py",
   "mimetype": "text/x-python",
   "name": "python",
   "nbconvert_exporter": "python",
   "pygments_lexer": "ipython3",
   "version": "3.11.5"
  }
 },
 "nbformat": 4,
 "nbformat_minor": 4
}
