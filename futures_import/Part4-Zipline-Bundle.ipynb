{
 "cells": [
  {
   "cell_type": "markdown",
   "metadata": {},
   "source": [
    "<a href=\"https://www.quantrocket.com\"><img alt=\"QuantRocket logo\" src=\"https://www.quantrocket.com/assets/img/notebook-header-logo.png\"></a><br>\n",
    "<a href=\"https://www.quantrocket.com/disclaimer/\">Disclaimer</a>"
   ]
  },
  {
   "cell_type": "markdown",
   "metadata": {},
   "source": [
    "***\n",
    "[Import Futures](Introduction.ipynb) › Part 4: Zipline Bundle\n",
    "***"
   ]
  },
  {
   "cell_type": "markdown",
   "metadata": {},
   "source": [
    "# Zipline Bundle\n",
    "\n",
    "In this notebook, we create a Zipline bundle that ingests data from two sources: the custom database containing our imported futures data, and the IBKR database containing recent futures data. Creating a bundle is a convenient way to combine the two data sources, even if you don't intend to use Zipline. We can keep the bundle up-to-date by updating the IBKR history database and re-running the ingestion, while the imported data provides deeper historical coverage.\n"
   ]
  },
  {
   "cell_type": "markdown",
   "metadata": {},
   "source": [
    "First, create an empty bundle using the `create_bundle_from_db` function, specifying both source databases in the `from_db` argument. Make sure to list the IBKR database first ('ibkr-futures-1d' in this example): if a SID is found in both databases, only the price history from the database listed first will be ingested. Since the IBKR database will be updated going forward, we want to give it priority.\n",
    "\n",
    "Choose a start date corresponding to the start date of your imported data. For a list of available calendars, see the [usage guide](https://www.quantrocket.com/docs/#schedule-trading-calendars)."
   ]
  },
  {
   "cell_type": "code",
   "execution_count": 1,
   "metadata": {},
   "outputs": [
    {
     "data": {
      "text/plain": [
       "{'status': 'success', 'msg': 'successfully created futures-1d-bundle bundle'}"
      ]
     },
     "execution_count": 1,
     "metadata": {},
     "output_type": "execute_result"
    }
   ],
   "source": [
    "from quantrocket.zipline import create_bundle_from_db\n",
    "\n",
    "create_bundle_from_db(\n",
    "    \"futures-1d-bundle\",\n",
    "    from_db=[\n",
    "        \"ibkr-futures-1d\",\n",
    "        \"imported-futures-1d\",\n",
    "    ],\n",
    "    calendar=\"CME\",\n",
    "    start_date=\"2000-01-02\",\n",
    "\n",
    ")"
   ]
  },
  {
   "cell_type": "markdown",
   "metadata": {},
   "source": [
    "Next, ingest the data:"
   ]
  },
  {
   "cell_type": "code",
   "execution_count": 2,
   "metadata": {},
   "outputs": [
    {
     "data": {
      "text/plain": [
       "{'status': 'the data will be ingested asynchronously'}"
      ]
     },
     "execution_count": 2,
     "metadata": {},
     "output_type": "execute_result"
    }
   ],
   "source": [
    "from quantrocket.zipline import ingest_bundle\n",
    "ingest_bundle(\"futures-1d-bundle\")"
   ]
  },
  {
   "cell_type": "markdown",
   "metadata": {},
   "source": [
    "Monitor flightlog for completion:\n",
    "\n",
    "```\n",
    "quantrocket.zipline: INFO [futures-1d-bundle] Ingesting futures-1d-bundle bundle\n",
    "quantrocket.zipline: INFO [futures-1d-bundle] Ingested 6658 total records for 18 total securities in futures-1d-bundle bundle\n",
    "```"
   ]
  },
  {
   "cell_type": "markdown",
   "metadata": {},
   "source": [
    "You can spot-check the bundle to make sure that early data from the imported history db is present: "
   ]
  },
  {
   "cell_type": "code",
   "execution_count": 4,
   "metadata": {},
   "outputs": [
    {
     "data": {
      "text/html": [
       "<div>\n",
       "<style scoped>\n",
       "    .dataframe tbody tr th:only-of-type {\n",
       "        vertical-align: middle;\n",
       "    }\n",
       "\n",
       "    .dataframe tbody tr th {\n",
       "        vertical-align: top;\n",
       "    }\n",
       "\n",
       "    .dataframe thead th {\n",
       "        text-align: right;\n",
       "    }\n",
       "</style>\n",
       "<table border=\"1\" class=\"dataframe\">\n",
       "  <thead>\n",
       "    <tr style=\"text-align: right;\">\n",
       "      <th></th>\n",
       "      <th>Sid</th>\n",
       "      <th>QF000000654947</th>\n",
       "      <th>QF000000654948</th>\n",
       "    </tr>\n",
       "    <tr>\n",
       "      <th>Field</th>\n",
       "      <th>Date</th>\n",
       "      <th></th>\n",
       "      <th></th>\n",
       "    </tr>\n",
       "  </thead>\n",
       "  <tbody>\n",
       "    <tr>\n",
       "      <th rowspan=\"10\" valign=\"top\">Close</th>\n",
       "      <th>2008-09-02</th>\n",
       "      <td>1276.50</td>\n",
       "      <td>1278.00</td>\n",
       "    </tr>\n",
       "    <tr>\n",
       "      <th>2008-09-03</th>\n",
       "      <td>1275.25</td>\n",
       "      <td>1276.75</td>\n",
       "    </tr>\n",
       "    <tr>\n",
       "      <th>2008-09-04</th>\n",
       "      <td>1236.50</td>\n",
       "      <td>1238.00</td>\n",
       "    </tr>\n",
       "    <tr>\n",
       "      <th>2008-09-05</th>\n",
       "      <td>1241.00</td>\n",
       "      <td>1242.50</td>\n",
       "    </tr>\n",
       "    <tr>\n",
       "      <th>2008-09-08</th>\n",
       "      <td>1267.00</td>\n",
       "      <td>1268.50</td>\n",
       "    </tr>\n",
       "    <tr>\n",
       "      <th>2008-09-09</th>\n",
       "      <td>1226.50</td>\n",
       "      <td>1227.75</td>\n",
       "    </tr>\n",
       "    <tr>\n",
       "      <th>2008-09-10</th>\n",
       "      <td>1233.25</td>\n",
       "      <td>1234.50</td>\n",
       "    </tr>\n",
       "    <tr>\n",
       "      <th>2008-09-11</th>\n",
       "      <td>1251.00</td>\n",
       "      <td>1252.00</td>\n",
       "    </tr>\n",
       "    <tr>\n",
       "      <th>2008-09-12</th>\n",
       "      <td>1257.25</td>\n",
       "      <td>1258.50</td>\n",
       "    </tr>\n",
       "    <tr>\n",
       "      <th>2008-09-15</th>\n",
       "      <td>1195.00</td>\n",
       "      <td>1196.00</td>\n",
       "    </tr>\n",
       "  </tbody>\n",
       "</table>\n",
       "</div>"
      ],
      "text/plain": [
       "Sid               QF000000654947  QF000000654948\n",
       "Field Date                                      \n",
       "Close 2008-09-02         1276.50         1278.00\n",
       "      2008-09-03         1275.25         1276.75\n",
       "      2008-09-04         1236.50         1238.00\n",
       "      2008-09-05         1241.00         1242.50\n",
       "      2008-09-08         1267.00         1268.50\n",
       "      2008-09-09         1226.50         1227.75\n",
       "      2008-09-10         1233.25         1234.50\n",
       "      2008-09-11         1251.00         1252.00\n",
       "      2008-09-12         1257.25         1258.50\n",
       "      2008-09-15         1195.00         1196.00"
      ]
     },
     "execution_count": 4,
     "metadata": {},
     "output_type": "execute_result"
    }
   ],
   "source": [
    "from quantrocket import get_prices\n",
    "prices = get_prices(\n",
    "    \"futures-1d-bundle\",\n",
    "    start_date=\"2008-09-02\",\n",
    "    end_date=\"2008-09-15\",\n",
    "    fields=\"Close\"\n",
    ")\n",
    "prices"
   ]
  },
  {
   "cell_type": "markdown",
   "metadata": {},
   "source": [
    "The bundle is now ready to use. To update the bundle, collect the IBKR history database again, then re-run the ingestion. Since the imported database is non-updating, no further action with it is necessary.\n",
    "\n",
    "Automatic collection can be scheduled on your crontab. For example:\n",
    "\n",
    "```bash\n",
    "# collect IBKR history, wait for it to finish, then re-ingest the Zipline bundle\n",
    "0 20 * * mon-fri quantrocket history collect 'ibkr-futures-1d' && quantrocket history wait 'ibkr-futures-1d' && quantrocket zipline ingest 'futures-1d-bundle'\n",
    "```\n",
    "\n"
   ]
  },
  {
   "cell_type": "markdown",
   "metadata": {},
   "source": [
    "---\n",
    "[Back to Introduction](Introduction.ipynb) "
   ]
  }
 ],
 "metadata": {
  "kernelspec": {
   "display_name": "Python 3.11",
   "language": "python",
   "name": "python3"
  },
  "language_info": {
   "codemirror_mode": {
    "name": "ipython",
    "version": 3
   },
   "file_extension": ".py",
   "mimetype": "text/x-python",
   "name": "python",
   "nbconvert_exporter": "python",
   "pygments_lexer": "ipython3",
   "version": "3.11.5"
  }
 },
 "nbformat": 4,
 "nbformat_minor": 4
}
