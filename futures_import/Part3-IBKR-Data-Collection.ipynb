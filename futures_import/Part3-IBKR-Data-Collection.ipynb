{
 "cells": [
  {
   "cell_type": "markdown",
   "metadata": {},
   "source": [
    "<a href=\"https://www.quantrocket.com\"><img alt=\"QuantRocket logo\" src=\"https://www.quantrocket.com/assets/img/notebook-header-logo.png\"></a><br>\n",
    "<a href=\"https://www.quantrocket.com/disclaimer/\">Disclaimer</a>"
   ]
  },
  {
   "cell_type": "markdown",
   "metadata": {},
   "source": [
    "***\n",
    "[Import Futures](Introduction.ipynb) › Part 3: Interactive Brokers Data Collection\n",
    "***"
   ]
  },
  {
   "cell_type": "markdown",
   "metadata": {},
   "source": [
    "# Interactive Brokers Data Collection\n",
    "\n",
    "We will complement the imported futures data with recent historical data from Interactive Brokers. The two data sources will be combined in a Zipline bundle in the next notebook. "
   ]
  },
  {
   "cell_type": "markdown",
   "metadata": {},
   "source": [
    "First, start IB Gateway:"
   ]
  },
  {
   "cell_type": "code",
   "execution_count": 1,
   "metadata": {},
   "outputs": [
    {
     "data": {
      "text/plain": [
       "{'ibg1': {'status': 'running'}}"
      ]
     },
     "execution_count": 1,
     "metadata": {},
     "output_type": "execute_result"
    }
   ],
   "source": [
    "from quantrocket.ibg import start_gateways\n",
    "start_gateways(wait=True)"
   ]
  },
  {
   "cell_type": "markdown",
   "metadata": {},
   "source": [
    "## Collect futures chains\n",
    "\n",
    "Next, we need to collect contract details for the IBKR futures we are interested in. For the purpose of this tutorial, we are only collecting ES futures: "
   ]
  },
  {
   "cell_type": "code",
   "execution_count": 2,
   "metadata": {},
   "outputs": [
    {
     "data": {
      "text/plain": [
       "{'status': 'the IBKR listing details will be collected asynchronously'}"
      ]
     },
     "execution_count": 2,
     "metadata": {},
     "output_type": "execute_result"
    }
   ],
   "source": [
    "from quantrocket.master import collect_ibkr_listings\n",
    "collect_ibkr_listings(\n",
    "    countries=\"US\",\n",
    "    sec_types=\"FUT\",\n",
    "    symbols=\"ES\"\n",
    ")"
   ]
  },
  {
   "cell_type": "markdown",
   "metadata": {},
   "source": [
    "Monitor flightlog for completion:\n",
    "\n",
    "```\n",
    "quantrocket.master: INFO Collecting US FUT listings from IBKR website (ES only)\n",
    "quantrocket.master: INFO Requesting details for 1 US FUT listings found on IBKR website\n",
    "quantrocket.master: INFO Generating rollover dates for all IBKR FUT contracts\n",
    "quantrocket.master: INFO Saved 29 US FUT listings to securities master database\n",
    "quantrocket.master: INFO Building consolidated securities master from active vendors: ibkr, usstock\n",
    "quantrocket.master: INFO Completed building consolidated securities master with 16217 records\n",
    "```"
   ]
  },
  {
   "cell_type": "markdown",
   "metadata": {},
   "source": [
    "## Define universe of futures\n",
    "\n",
    "Next we define a universe of futures for easy reference. We want to include the IBKR futures we just collected as well as the imported futures contracts. To do so, we query the futures from the securities master database:"
   ]
  },
  {
   "cell_type": "code",
   "execution_count": 3,
   "metadata": {},
   "outputs": [],
   "source": [
    "from quantrocket.master import get_securities\n",
    "contracts = get_securities(\n",
    "    exchanges=\"CME\",\n",
    "    sec_types=\"FUT\",\n",
    "    symbols=\"ES\",\n",
    ")"
   ]
  },
  {
   "cell_type": "markdown",
   "metadata": {},
   "source": [
    "Then upload the sids to create the \"futures\" universe:"
   ]
  },
  {
   "cell_type": "code",
   "execution_count": 4,
   "metadata": {},
   "outputs": [
    {
     "data": {
      "text/plain": [
       "{'code': 'futures',\n",
       " 'provided': 125,\n",
       " 'inserted': 125,\n",
       " 'total_after_insert': 125}"
      ]
     },
     "execution_count": 4,
     "metadata": {},
     "output_type": "execute_result"
    }
   ],
   "source": [
    "from quantrocket.master import create_universe\n",
    "create_universe(\"futures\", sids=contracts.index.tolist())"
   ]
  },
  {
   "cell_type": "markdown",
   "metadata": {},
   "source": [
    "> NOTE: You should periodically collect new contracts from IBKR and append them to your universe, as explained in the [usage guide](https://www.quantrocket.com/docs/#futures-new-contracts). This step can be automated on your countdown crontab."
   ]
  },
  {
   "cell_type": "markdown",
   "metadata": {},
   "source": [
    "## Collect historical data\n",
    "\n",
    "Next we collect historical data for the universe we created. To do so, first create an IBKR history database tied to the 'futures' universe: "
   ]
  },
  {
   "cell_type": "code",
   "execution_count": 5,
   "metadata": {},
   "outputs": [
    {
     "data": {
      "text/plain": [
       "{'status': 'successfully created quantrocket.v2.history.ibkr-futures-1d.sqlite'}"
      ]
     },
     "execution_count": 5,
     "metadata": {},
     "output_type": "execute_result"
    }
   ],
   "source": [
    "from quantrocket.history import create_ibkr_db\n",
    "\n",
    "create_ibkr_db(\n",
    "    \"ibkr-futures-1d\",\n",
    "    universes=\"futures\",\n",
    "    bar_size=\"1 day\",\n",
    ")"
   ]
  },
  {
   "cell_type": "markdown",
   "metadata": {},
   "source": [
    "Then collect the data:"
   ]
  },
  {
   "cell_type": "code",
   "execution_count": 6,
   "metadata": {},
   "outputs": [
    {
     "data": {
      "text/plain": [
       "{'status': 'the historical data will be collected asynchronously'}"
      ]
     },
     "execution_count": 6,
     "metadata": {},
     "output_type": "execute_result"
    }
   ],
   "source": [
    "from quantrocket.history import collect_history\n",
    "collect_history(\"ibkr-futures-1d\")"
   ]
  },
  {
   "cell_type": "markdown",
   "metadata": {},
   "source": [
    "Monitor flightlog for completion:\n",
    "\n",
    "```\n",
    "quantrocket.history: INFO [ibkr-futures-1d] Collecting history from IBKR for 48 securities in ibkr-futures-1d\n",
    "...\n",
    "quantrocket.history: INFO [ibkr-futures-1d] Saved 6031 total records for 16 total securities to quantrocket.v2.history.ibkr-futures-1d.sqlite\n",
    "```\n",
    "\n",
    "You may see a warning such as the following:\n",
    "\n",
    "```\n",
    "quantrocket.history: WARNING Ignoring 77 of 125 securities with no ibkr_ConId field: QF000000654904, QF000000654905, QF000000654906, QF000000654907, QF000000654908 and 72 more. You must collect securities master listings from IBKR before before you can collect historical data from IBKR, see http://qrok.it/h/ibhsid for help.\n",
    "```\n",
    "\n",
    "This is expected and harmless, as it simply reflects that the imported futures contracts do not have the `ibkr_ConId` field populated since they did not originate from Interactive Brokers. (`ConId` stands for \"contract ID\" and is Interactive Brokers' unique security identifier.)\n",
    "\n",
    "You will also see warnings like this:\n",
    "\n",
    "```\n",
    "WARNING [ibkr-futures-1d] IBKR reports ESU6 FUT (sid IB81037229) cannot be found in their system, this is commonly due to a stock delisting or switching exchanges or a derivative contract expiring, see http://qrok.it/h/err/200 for more help (error code 200: No security definition has been found for the request)\n",
    "```\n",
    "\n",
    "This is expected due to IBKR removing futures that expired more than 2 years ago from their system."
   ]
  },
  {
   "cell_type": "markdown",
   "metadata": {},
   "source": [
    "***\n",
    "\n",
    "## *Next Up*\n",
    "\n",
    "Part 4: [Zipline Bundle](Part4-Zipline-Bundle.ipynb)"
   ]
  }
 ],
 "metadata": {
  "kernelspec": {
   "display_name": "Python 3.11",
   "language": "python",
   "name": "python3"
  },
  "language_info": {
   "codemirror_mode": {
    "name": "ipython",
    "version": 3
   },
   "file_extension": ".py",
   "mimetype": "text/x-python",
   "name": "python",
   "nbconvert_exporter": "python",
   "pygments_lexer": "ipython3",
   "version": "3.11.5"
  }
 },
 "nbformat": 4,
 "nbformat_minor": 4
}
